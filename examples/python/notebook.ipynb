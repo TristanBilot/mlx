{
 "cells": [
  {
   "cell_type": "code",
   "execution_count": 1,
   "metadata": {},
   "outputs": [],
   "source": [
    "import mlx.core as mx\n",
    "import mlx.nn as nn"
   ]
  },
  {
   "cell_type": "code",
   "execution_count": 48,
   "metadata": {},
   "outputs": [],
   "source": [
    "class MessagePassing(nn.Module):\n",
    "    def __init__(self, aggr=None):\n",
    "        self.aggr = aggr\n",
    "\n",
    "    def __call__(self, x, edge_index, **kwargs):\n",
    "        pass\n",
    "\n",
    "    def propagate(self, x, edge_index, **kwargs):\n",
    "        # process arguments and create *_kwargs\n",
    "        \n",
    "        src_idx, dst_idx = edge_index\n",
    "        x_i = x[src_idx]\n",
    "        x_j = x[dst_idx]\n",
    "\n",
    "        # Message\n",
    "        messages = self.message(x_i, x_j) #**msg_kwargs)\n",
    "\n",
    "        # Aggregate\n",
    "        aggregated = self.aggregate(messages, dst_idx) #**agg_kwargs)\n",
    "\n",
    "        # Update\n",
    "        output = self.update(aggregated) #**upd_kwargs)\n",
    "\n",
    "        return output\n",
    "\n",
    "    def message(self, x_i, x_j, **kwargs):\n",
    "        return x_i\n",
    "\n",
    "    def aggregate(self, messages, indices, **kwargs):\n",
    "        if self.aggr == \"add\":\n",
    "            nb_unique_indices = _unique(indices)\n",
    "            empty_tensor = mx.zeros((nb_unique_indices, messages.shape[-1]))\n",
    "            update_dim = (messages.shape[0], 1, messages.shape[1])\n",
    "            return mx.scatter_add_(empty_tensor, [indices], messages.reshape(update_dim), [0], None)\n",
    "\n",
    "    def update(self, aggregated, **kwargs):\n",
    "        raise NotImplementedError\n",
    "\n",
    "    \n",
    "def _unique(array):\n",
    "    return len(set(array.tolist()))"
   ]
  },
  {
   "cell_type": "code",
   "execution_count": 49,
   "metadata": {},
   "outputs": [],
   "source": [
    "class GCN(MessagePassing):\n",
    "    def __init__(self, x_dim, h_dim):\n",
    "        super().__init__(aggr=\"add\")\n",
    "        \n",
    "        self.linear = nn.Linear(x_dim, h_dim)\n",
    "\n",
    "    def __call__(self, x, edge_index, **kwargs):\n",
    "        # x = self.linear(x)\n",
    "        x = self.propagate(x=x, edge_index=edge_index)\n",
    "\n",
    "        return x"
   ]
  },
  {
   "cell_type": "code",
   "execution_count": 50,
   "metadata": {},
   "outputs": [],
   "source": [
    "gcn = GCN(1, 32)\n",
    "\n",
    "x = mx.array([[1], [2], [3], [4]])\n",
    "edge_index = mx.array([\n",
    "    [0, 0, 0, 1, 2],\n",
    "    [1, 2, 3, 0, 0]\n",
    "])\n",
    "# expect: [5, 1, 1, 1]\n",
    "\n",
    "gcn(x, edge_index)"
   ]
  }
 ],
 "metadata": {
  "kernelspec": {
   "display_name": "mlx_contribute",
   "language": "python",
   "name": "python3"
  },
  "language_info": {
   "codemirror_mode": {
    "name": "ipython",
    "version": 3
   },
   "file_extension": ".py",
   "mimetype": "text/x-python",
   "name": "python",
   "nbconvert_exporter": "python",
   "pygments_lexer": "ipython3",
   "version": "3.10.13"
  }
 },
 "nbformat": 4,
 "nbformat_minor": 2
}
