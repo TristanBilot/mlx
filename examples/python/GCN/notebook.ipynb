{
 "cells": [
  {
   "cell_type": "code",
   "execution_count": 5,
   "metadata": {},
   "outputs": [],
   "source": [
    "import mlx.core as mx\n",
    "import mlx.nn as nn"
   ]
  },
  {
   "cell_type": "code",
   "execution_count": 6,
   "metadata": {},
   "outputs": [],
   "source": [
    "class MessagePassing(nn.Module):\n",
    "    def __init__(self, aggr=None):\n",
    "        self.aggr = aggr\n",
    "\n",
    "    def __call__(self, x, edge_index, **kwargs):\n",
    "        pass\n",
    "\n",
    "    def propagate(self, x, edge_index, **kwargs):\n",
    "        # process arguments and create *_kwargs\n",
    "        \n",
    "        src_idx, dst_idx = edge_index\n",
    "        x_i = x[src_idx]\n",
    "        x_j = x[dst_idx]\n",
    "\n",
    "        # Message\n",
    "        messages = self.message(x_i, x_j) #**msg_kwargs)\n",
    "\n",
    "        # Aggregate\n",
    "        aggregated = self.aggregate(messages, dst_idx) #**agg_kwargs)\n",
    "\n",
    "        # Update\n",
    "        output = self.update(aggregated) #**upd_kwargs)\n",
    "\n",
    "        return output\n",
    "\n",
    "    def message(self, x_i, x_j, **kwargs):\n",
    "        return x_i\n",
    "\n",
    "    def aggregate(self, messages, indices, **kwargs):\n",
    "        if self.aggr == \"add\":\n",
    "            nb_unique_indices = _unique(indices)\n",
    "            empty_tensor = mx.zeros((nb_unique_indices, messages.shape[-1]))\n",
    "            update_dim = (messages.shape[0], 1, messages.shape[1])\n",
    "            return mx.scatter_add_(empty_tensor, [indices], messages.reshape(update_dim), [0], None)\n",
    "\n",
    "    def update(self, aggregated, **kwargs):\n",
    "        raise NotImplementedError\n",
    "\n",
    "    \n",
    "def _unique(array):\n",
    "    return len(set(array.tolist()))"
   ]
  },
  {
   "cell_type": "code",
   "execution_count": 7,
   "metadata": {},
   "outputs": [],
   "source": [
    "class GCNLayer(MessagePassing):\n",
    "    def __init__(self, x_dim, h_dim, bias=True):\n",
    "        super().__init__(aggr=\"add\")\n",
    "        \n",
    "        self.linear = nn.Linear(x_dim, h_dim, bias)\n",
    "\n",
    "    def __call__(self, x, edge_index, **kwargs):\n",
    "        x = self.linear(x)\n",
    "        x = self.propagate(x=x, edge_index=edge_index)\n",
    "\n",
    "        return x"
   ]
  },
  {
   "cell_type": "code",
   "execution_count": 8,
   "metadata": {},
   "outputs": [],
   "source": [
    "class GCN(nn.Module):\n",
    "    def __init__(self, x_dim, h_dim, out_dim, nb_layers=2, dropout=0.5, bias=True):\n",
    "        super(GCN, self).__init__()\n",
    "\n",
    "        layer_sizes = [x_dim] + [h_dim] * nb_layers + [out_dim]\n",
    "        self.gcn_layers = [\n",
    "            GCNLayer(in_dim, out_dim, bias)\n",
    "            for in_dim, out_dim in zip(layer_sizes[:-1], layer_sizes[1:])\n",
    "        ]\n",
    "        self.dropout = nn.Dropout(p=dropout)\n",
    "\n",
    "    def __call__(self, x, adj):\n",
    "        for layer in self.gcn_layers[:-1]:\n",
    "            x = nn.relu(layer(x, adj))\n",
    "            x = self.dropout(x)\n",
    "\n",
    "        x = self.gcn_layers[-1](x, adj)\n",
    "        return x"
   ]
  },
  {
   "cell_type": "code",
   "execution_count": 50,
   "metadata": {},
   "outputs": [],
   "source": [
    "gcn = GCN(1, 32)\n",
    "\n",
    "x = mx.array([[1], [2], [3], [4]])\n",
    "edge_index = mx.array([\n",
    "    [0, 0, 0, 1, 2],\n",
    "    [1, 2, 3, 0, 0]\n",
    "])\n",
    "# expect: [5, 1, 1, 1]\n",
    "\n",
    "gcn(x, edge_index)"
   ]
  },
  {
   "cell_type": "code",
   "execution_count": 2,
   "metadata": {},
   "outputs": [
    {
     "ename": "TypeError",
     "evalue": "GCNConv.__init__() missing 2 required positional arguments: 'in_channels' and 'out_channels'",
     "output_type": "error",
     "traceback": [
      "\u001b[0;31m---------------------------------------------------------------------------\u001b[0m",
      "\u001b[0;31mTypeError\u001b[0m                                 Traceback (most recent call last)",
      "Cell \u001b[0;32mIn[2], line 10\u001b[0m\n\u001b[1;32m      4\u001b[0m x_torch \u001b[38;5;241m=\u001b[39m torch\u001b[38;5;241m.\u001b[39mtensor([[\u001b[38;5;241m1\u001b[39m], [\u001b[38;5;241m2\u001b[39m], [\u001b[38;5;241m3\u001b[39m], [\u001b[38;5;241m4\u001b[39m]])\n\u001b[1;32m      5\u001b[0m edge_index_torch \u001b[38;5;241m=\u001b[39m torch\u001b[38;5;241m.\u001b[39mtensor([\n\u001b[1;32m      6\u001b[0m     [\u001b[38;5;241m0\u001b[39m, \u001b[38;5;241m0\u001b[39m, \u001b[38;5;241m0\u001b[39m, \u001b[38;5;241m1\u001b[39m, \u001b[38;5;241m2\u001b[39m],\n\u001b[1;32m      7\u001b[0m     [\u001b[38;5;241m1\u001b[39m, \u001b[38;5;241m2\u001b[39m, \u001b[38;5;241m3\u001b[39m, \u001b[38;5;241m0\u001b[39m, \u001b[38;5;241m0\u001b[39m]\n\u001b[1;32m      8\u001b[0m ])\n\u001b[0;32m---> 10\u001b[0m gcn_torch \u001b[38;5;241m=\u001b[39m \u001b[43mGCNConv\u001b[49m\u001b[43m(\u001b[49m\u001b[43m)\u001b[49m\n",
      "\u001b[0;31mTypeError\u001b[0m: GCNConv.__init__() missing 2 required positional arguments: 'in_channels' and 'out_channels'"
     ]
    }
   ],
   "source": [
    "import torch\n",
    "from torch_geometric.nn import GCNConv\n",
    "\n",
    "x_torch = torch.tensor([[1], [2], [3], [4]])\n",
    "edge_index_torch = torch.tensor([\n",
    "    [0, 0, 0, 1, 2],\n",
    "    [1, 2, 3, 0, 0]\n",
    "])\n",
    "\n",
    "gcn_torch = GCNConv()"
   ]
  },
  {
   "cell_type": "code",
   "execution_count": null,
   "metadata": {},
   "outputs": [],
   "source": []
  }
 ],
 "metadata": {
  "kernelspec": {
   "display_name": "mlx_contribute",
   "language": "python",
   "name": "python3"
  },
  "language_info": {
   "codemirror_mode": {
    "name": "ipython",
    "version": 3
   },
   "file_extension": ".py",
   "mimetype": "text/x-python",
   "name": "python",
   "nbconvert_exporter": "python",
   "pygments_lexer": "ipython3",
   "version": "3.10.13"
  }
 },
 "nbformat": 4,
 "nbformat_minor": 2
}
